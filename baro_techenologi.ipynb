{
 "cells": [
  {
   "cell_type": "code",
   "execution_count": 1,
   "id": "b6579e08",
   "metadata": {},
   "outputs": [
    {
     "name": "stdout",
     "output_type": "stream",
     "text": [
      "0.41818181818181815\n",
      "1265\n",
      "23\n"
     ]
    }
   ],
   "source": [
    "num1=23\n",
    "num2=55\n",
    "print(num1/num2)\n",
    "print(num1*num2)\n",
    "print(num1%num2)"
   ]
  },
  {
   "cell_type": "code",
   "execution_count": 3,
   "id": "27ce0451",
   "metadata": {},
   "outputs": [
    {
     "name": "stdout",
     "output_type": "stream",
     "text": [
      "the number is even\n"
     ]
    }
   ],
   "source": [
    "x=10\n",
    "if x%2==0:\n",
    "    print (\"the number is even\")"
   ]
  },
  {
   "cell_type": "code",
   "execution_count": null,
   "id": "2c4a5dc9",
   "metadata": {},
   "outputs": [],
   "source": [
    "from sys import exception\n",
    "\n",
    "\n",
    "def calculator():\n",
    "    print(\"Standard Calculator\")\n",
    "    try:\n",
    "        while True:  \n",
    "            op=input(\"Enter operation (+, -, *,, /,and exit): \")\n",
    "            if op == \"exit\":\n",
    "                print(\"exiting the calculator\")\n",
    "                break\n",
    "            list_op= [\"+\",\"-\",\"/\",\"*\",\"\"]\n",
    "            if op not in list_op:\n",
    "                print(\"pleace enter valide opratore\")\n",
    "                continue\n",
    "            #end\n",
    "            numbers = []\n",
    "            while True:\n",
    "                number =input(\"entrr number or = sign in order to calculate\")\n",
    "                if number == \"=\":\n",
    "                        if len(numbers)<2:\n",
    "                            print(\"enter atlist 2 numbers\")\n",
    "                            continue\n",
    "                        break\n",
    "                try:\n",
    "                     num = float(number)\n",
    "                     numbers.append(num)\n",
    "                except ValueError:\n",
    "                    print(\"enter the number only! \")\n",
    "                    continue\n",
    "                #end 2\n",
    "            if op == \"+\":\n",
    "                result = numbers[0]\n",
    "                for number in numbers[1:]:\n",
    "                 result = result + number\n",
    "                print(\"+\".join(map(str,numbers))+ f\"{result}\")\n",
    "\n",
    "            elif op == \"-\":\n",
    "                result = numbers[0]\n",
    "                for number in numbers[1:]:\n",
    "                    result = result - number\n",
    "                    print(\"-\".join(map(str,numbers))+ f\"{result}\")\n",
    "            elif op == \"*\":\n",
    "                result = numbers[0]\n",
    "                for number in numbers[1:]:\n",
    "                    result = result * number\n",
    "                    print(\"*\".join(map(str,numbers))+ f\"{result}\")\n",
    "            elif op == \"/\":\n",
    "                result = numbers[0]\n",
    "                for number in numbers[1:]:\n",
    "                    result = result / number\n",
    "                    print(\"/\".join(map(str,numbers))+ f\"{result}\")\n",
    "\n",
    "    except exception as e:\n",
    "        print(f\"invalid operation: {e}\")\n",
    "    print(\"developer by: endiya $ hafiza\")\n",
    "\n",
    "calculator()"
   ]
  }
 ],
 "metadata": {
  "kernelspec": {
   "display_name": "Python 3",
   "language": "python",
   "name": "python3"
  },
  "language_info": {
   "codemirror_mode": {
    "name": "ipython",
    "version": 3
   },
   "file_extension": ".py",
   "mimetype": "text/x-python",
   "name": "python",
   "nbconvert_exporter": "python",
   "pygments_lexer": "ipython3",
   "version": "3.13.5"
  }
 },
 "nbformat": 4,
 "nbformat_minor": 5
}
