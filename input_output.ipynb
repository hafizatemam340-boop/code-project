{
 "cells": [
  {
   "cell_type": "code",
   "execution_count": 9,
   "id": "23e1fa32",
   "metadata": {},
   "outputs": [
    {
     "name": "stdout",
     "output_type": "stream",
     "text": [
      "hellowendiya,you are18,years old\n"
     ]
    }
   ],
   "source": [
    "name=input(\"your name\")\n",
    "age=input(\"your age\")\n",
    "print(f\"hellow{name},you are{age},years old\")"
   ]
  },
  {
   "cell_type": "code",
   "execution_count": 10,
   "id": "27f4a975",
   "metadata": {},
   "outputs": [
    {
     "name": "stdout",
     "output_type": "stream",
     "text": [
      "14\n"
     ]
    }
   ],
   "source": [
    "num1=int(input(\"enter the first number\"))\n",
    "num2=int(input(\"enter the second number\"))\n",
    "print(num1+num2)"
   ]
  },
  {
   "cell_type": "code",
   "execution_count": 11,
   "id": "e176f197",
   "metadata": {},
   "outputs": [
    {
     "name": "stdout",
     "output_type": "stream",
     "text": [
      "9\n"
     ]
    }
   ],
   "source": [
    "str=\"well come\"\n",
    "print(len(str))\n"
   ]
  },
  {
   "cell_type": "code",
   "execution_count": 12,
   "id": "6fd04bef",
   "metadata": {},
   "outputs": [
    {
     "name": "stdout",
     "output_type": "stream",
     "text": [
      "aipoihte ni\n"
     ]
    }
   ],
   "source": [
    "condition = (\"in ethiopia\")\n",
    "print(condition[::-1])"
   ]
  },
  {
   "cell_type": "code",
   "execution_count": 3,
   "id": "99d51753",
   "metadata": {},
   "outputs": [
    {
     "name": "stdout",
     "output_type": "stream",
     "text": [
      "{}\n"
     ]
    }
   ],
   "source": [
    "filename = \"data.CSV\"\n",
    "data_dict = {}\n",
    "print (data_dict)"
   ]
  },
  {
   "cell_type": "code",
   "execution_count": 4,
   "id": "74972e54",
   "metadata": {},
   "outputs": [
    {
     "name": "stdout",
     "output_type": "stream",
     "text": [
      "keyword\n"
     ]
    }
   ],
   "source": [
    "logfile = \"log.text\"\n",
    "keyword = \"ERROR\"\n",
    "print(\"keyword\")"
   ]
  }
 ],
 "metadata": {
  "kernelspec": {
   "display_name": "Python 3",
   "language": "python",
   "name": "python3"
  },
  "language_info": {
   "codemirror_mode": {
    "name": "ipython",
    "version": 3
   },
   "file_extension": ".py",
   "mimetype": "text/x-python",
   "name": "python",
   "nbconvert_exporter": "python",
   "pygments_lexer": "ipython3",
   "version": "3.13.5"
  }
 },
 "nbformat": 4,
 "nbformat_minor": 5
}
